{
 "cells": [
  {
   "cell_type": "markdown",
   "metadata": {},
   "source": [
    "1.\tWrite a Python program to check if the given number is a Disarium Number"
   ]
  },
  {
   "cell_type": "code",
   "execution_count": 61,
   "metadata": {},
   "outputs": [],
   "source": [
    "def check(number):\n",
    "\n",
    "        \n",
    "        s=0\n",
    "        num = number\n",
    "        while num > 0 :\n",
    "            rem = num % 10\n",
    "            digit = str(num)\n",
    "            s+=int(rem**len(digit))\n",
    "            num = num//10\n",
    "        if (s==number):\n",
    "\n",
    "            print(\"number is disarium number\")\n",
    "        else :\n",
    "\n",
    "            print(\"number is not disarium number\")\n",
    "      \n",
    "        \n",
    "        \n",
    "        "
   ]
  },
  {
   "cell_type": "markdown",
   "metadata": {},
   "source": [
    "2.\tWrite a Python program to print all disarium numbers between 1 to 100?"
   ]
  },
  {
   "cell_type": "code",
   "execution_count": 74,
   "metadata": {},
   "outputs": [
    {
     "name": "stdout",
     "output_type": "stream",
     "text": [
      "0\n",
      "1\n",
      "2\n",
      "3\n",
      "4\n",
      "5\n",
      "6\n",
      "7\n",
      "8\n",
      "9\n",
      "89\n"
     ]
    }
   ],
   "source": [
    "for number in range (0,101):\n",
    "    s=0\n",
    "    num = number\n",
    "    while num > 0 :\n",
    "        rem = num % 10\n",
    "        digit = str(num)\n",
    "        s+=int(rem**len(digit))\n",
    "        num = num//10\n",
    "    if (s==number):\n",
    "\n",
    "        print(number)\n",
    "    else :\n",
    "\n",
    "        pass\n",
    "    \n",
    "        \n",
    "    "
   ]
  },
  {
   "cell_type": "markdown",
   "metadata": {},
   "source": [
    "3.\tWrite a Python program to check if the given number is Happy Number"
   ]
  },
  {
   "cell_type": "code",
   "execution_count": 96,
   "metadata": {},
   "outputs": [
    {
     "name": "stdout",
     "output_type": "stream",
     "text": [
      "9 is not a happy number\n"
     ]
    }
   ],
   "source": [
    "def sumofsquare(num):    \n",
    "    rem = sum = 0;    \n",
    "        \n",
    "    #Calculates the sum of squares of digits    \n",
    "    while(num > 0):    \n",
    "        rem = num%10;    \n",
    "        sum = sum + (rem*rem);    \n",
    "        num = num//10;    \n",
    "    return sum;    \n",
    "        \n",
    "num = 9;    \n",
    "result = num;    \n",
    "     \n",
    "while(result != 1 and result != 4):    \n",
    "    result = sumofsquare(result);    \n",
    "     \n",
    "#Happy number always ends with 1    \n",
    "if(result == 1):    \n",
    "    print(str(num) + \" is a happy number\");    \n",
    "#Unhappy number ends in a cycle of repeating numbers which contain 4    \n",
    "elif(result == 4):    \n",
    "    print(str(num) + \" is not a happy number\");   \n",
    "    "
   ]
  },
  {
   "cell_type": "markdown",
   "metadata": {},
   "source": [
    "4.\tWrite a Python program to print all happy numbers between 1 and 100?"
   ]
  },
  {
   "cell_type": "code",
   "execution_count": 101,
   "metadata": {},
   "outputs": [
    {
     "name": "stdout",
     "output_type": "stream",
     "text": [
      "1 is a happy number\n",
      "7 is a happy number\n",
      "10 is a happy number\n",
      "13 is a happy number\n",
      "19 is a happy number\n",
      "23 is a happy number\n",
      "28 is a happy number\n",
      "31 is a happy number\n",
      "32 is a happy number\n",
      "44 is a happy number\n",
      "49 is a happy number\n",
      "68 is a happy number\n",
      "70 is a happy number\n",
      "79 is a happy number\n",
      "82 is a happy number\n",
      "86 is a happy number\n",
      "91 is a happy number\n",
      "94 is a happy number\n",
      "97 is a happy number\n",
      "100 is a happy number\n"
     ]
    }
   ],
   "source": [
    "for num in range(1,101):\n",
    "    result = num;    \n",
    "     \n",
    "    while(result != 1 and result != 4):    \n",
    "        result = sumofsquare(result);    \n",
    "\n",
    "    #Happy number always ends with 1    \n",
    "    if(result == 1):    \n",
    "        print(str(num) + \" is a happy number\");    \n",
    "    #Unhappy number ends in a cycle of repeating numbers which contain 4    \n",
    "    elif(result == 4):    \n",
    "        pass "
   ]
  },
  {
   "cell_type": "markdown",
   "metadata": {},
   "source": [
    "5.\tWrite a Python program to determine whether the given number is a Harshad Number?"
   ]
  },
  {
   "cell_type": "code",
   "execution_count": 102,
   "metadata": {},
   "outputs": [
    {
     "name": "stdout",
     "output_type": "stream",
     "text": [
      "Yes\n",
      "No\n"
     ]
    }
   ],
   "source": [
    "# Python program to check\n",
    "# if a number is Harshad\n",
    "# Number or not.\n",
    "\n",
    "def checkHarshad( n ) :\n",
    "\tsum = 0\n",
    "\ttemp = n\n",
    "\twhile temp > 0 :\n",
    "\t\tsum = sum + temp % 10\n",
    "\t\ttemp = temp // 10\n",
    "\t# Return true if sum of\n",
    "\t# digits is multiple of n\n",
    "\treturn n % sum == 0\n",
    "\n",
    "# Driver Code\n",
    "if(checkHarshad(12)) : print(\"Yes\")\n",
    "else : print (\"No\")\n",
    "\n",
    "if (checkHarshad(15)) : print(\"Yes\")\n",
    "else : print (\"No\")\n",
    "\t\n"
   ]
  },
  {
   "cell_type": "markdown",
   "metadata": {},
   "source": [
    "6.\tWrite a Python program to print all pronic numbers between 1 and 100?"
   ]
  },
  {
   "cell_type": "code",
   "execution_count": 103,
   "metadata": {},
   "outputs": [
    {
     "name": "stdout",
     "output_type": "stream",
     "text": [
      "Enter a range:\n",
      "100\n",
      "1000\n",
      "Pronic numbers between  100  and  1000  are: \n",
      "110 132 156 182 210 240 272 306 342 380 420 462 506 552 600 650 702 756 812 870 930 992 "
     ]
    }
   ],
   "source": [
    "import math\n",
    "print(\"Enter a range:\")\n",
    "range1=int(input())\n",
    "range2=int(input())\n",
    "print(\"Pronic numbers between \",range1,\" and \",range2,\" are: \")\n",
    "for i in range(range1,range2+1):\n",
    "    flag = 0\n",
    "    for j in range(0, i + 1):\n",
    "        if j * (j + 1) == i:\n",
    "            flag = 1\n",
    "            break\n",
    "    if flag == 1:\n",
    "        print(i,end=\" \")"
   ]
  },
  {
   "cell_type": "code",
   "execution_count": null,
   "metadata": {},
   "outputs": [],
   "source": []
  }
 ],
 "metadata": {
  "kernelspec": {
   "display_name": "Python 3",
   "language": "python",
   "name": "python3"
  },
  "language_info": {
   "codemirror_mode": {
    "name": "ipython",
    "version": 3
   },
   "file_extension": ".py",
   "mimetype": "text/x-python",
   "name": "python",
   "nbconvert_exporter": "python",
   "pygments_lexer": "ipython3",
   "version": "3.8.5"
  }
 },
 "nbformat": 4,
 "nbformat_minor": 4
}
